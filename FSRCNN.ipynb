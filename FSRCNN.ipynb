{
 "cells": [
  {
   "cell_type": "code",
   "execution_count": 1,
   "id": "e15d3e23-c8bf-435d-92ab-7fb6917456d4",
   "metadata": {},
   "outputs": [],
   "source": [
    "# This code cell is to get rid of annoying tensorflow warnings\n",
    "import os\n",
    "os.environ['TF_CPP_MIN_LOG_LEVEL'] = '2'"
   ]
  },
  {
   "cell_type": "code",
   "execution_count": 2,
   "id": "0213022c-8407-487b-bc54-f6f849c69dbd",
   "metadata": {},
   "outputs": [],
   "source": [
    "import numpy as np\n",
    "import tensorflow as tf\n",
    "import glob\n",
    "import matplotlib.pyplot as plt\n",
    "from skimage import io, transform"
   ]
  },
  {
   "cell_type": "code",
   "execution_count": 3,
   "id": "cf8946c0-639f-43a4-908d-d42b8818001f",
   "metadata": {},
   "outputs": [
    {
     "data": {
      "text/plain": [
       "187"
      ]
     },
     "execution_count": 3,
     "metadata": {},
     "output_type": "execute_result"
    }
   ],
   "source": [
    "train_images = glob.glob(\"train-images/*/*.png\")\n",
    "len(train_images)"
   ]
  },
  {
   "cell_type": "code",
   "execution_count": 4,
   "id": "f0e99d8e-9b03-494b-a4b0-e618745b9f25",
   "metadata": {},
   "outputs": [],
   "source": [
    "input_size = 32\n",
    "output_size = 128\n",
    "scale_factor = 4"
   ]
  },
  {
   "cell_type": "code",
   "execution_count": 5,
   "id": "8c649aaa-d02e-485c-ae28-2b77617d2373",
   "metadata": {},
   "outputs": [],
   "source": [
    "X_train = []\n",
    "y_train = []\n",
    "\n",
    "for img in train_images:\n",
    "    img = io.imread(img)\n",
    "    X_train.append(transform.resize(img, (input_size, input_size)))\n",
    "    y_train.append(transform.resize(img, (output_size, output_size)))\n",
    "\n",
    "X_train = np.array(X_train)\n",
    "y_train = np.array(y_train)"
   ]
  },
  {
   "cell_type": "code",
   "execution_count": 6,
   "id": "ce82cde7-1c3f-47bd-b5f8-de07a7da8565",
   "metadata": {},
   "outputs": [
    {
     "data": {
      "text/plain": [
       "((187, 32, 32, 3), (187, 128, 128, 3))"
      ]
     },
     "execution_count": 6,
     "metadata": {},
     "output_type": "execute_result"
    }
   ],
   "source": [
    "X_train.shape, y_train.shape"
   ]
  },
  {
   "cell_type": "code",
   "execution_count": 7,
   "id": "7da28b3f-00b6-4e6d-b983-b1c6bff2befd",
   "metadata": {},
   "outputs": [],
   "source": [
    "model = tf.keras.models.Sequential([\n",
    "  #  Feature extraction\n",
    "  tf.keras.layers.Conv2D(56,(5, 5), activation=\"relu\", padding=\"same\", input_shape=(input_size, input_size, 3)),\n",
    "  #  Shrinking\n",
    "  tf.keras.layers.Conv2D(56,(1, 1), activation=\"relu\", padding=\"same\"),\n",
    "  #  Non-linear mapping\n",
    "  tf.keras.layers.Conv2D(12,(3, 3), activation=\"relu\", padding=\"same\"),\n",
    "  tf.keras.layers.Conv2D(12,(3, 3), activation=\"relu\", padding=\"same\"),\n",
    "  tf.keras.layers.Conv2D(12,(3, 3), activation=\"relu\", padding=\"same\"),\n",
    "  tf.keras.layers.Conv2D(12,(3, 3), activation=\"relu\", padding=\"same\"),\n",
    "  #  Expanding:\n",
    "  tf.keras.layers.Conv2D(56,(1, 1), activation=\"relu\", padding=\"same\"),\n",
    "  #  Deconvolution:\n",
    "  tf.keras.layers.Conv2DTranspose(3, (9, 9), strides=(scale_factor, scale_factor),  padding=\"same\"),\n",
    "])\n",
    "\n",
    "model.compile(optimizer=tf.keras.optimizers.Adam(),\n",
    "              loss=\"mean_squared_error\",\n",
    "              metrics=['accuracy'])\n"
   ]
  },
  {
   "cell_type": "code",
   "execution_count": 8,
   "id": "fb7485c9-72c5-4a7e-9007-014d056fe8f3",
   "metadata": {},
   "outputs": [
    {
     "name": "stdout",
     "output_type": "stream",
     "text": [
      "Epoch 1/10\n",
      "6/6 [==============================] - 2s 205ms/step - loss: 0.2846 - accuracy: 0.3130\n",
      "Epoch 2/10\n",
      "6/6 [==============================] - 1s 210ms/step - loss: 0.1270 - accuracy: 0.3056\n",
      "Epoch 3/10\n",
      "6/6 [==============================] - 1s 199ms/step - loss: 0.0647 - accuracy: 0.5428\n",
      "Epoch 4/10\n",
      "6/6 [==============================] - 1s 197ms/step - loss: 0.0620 - accuracy: 0.5800\n",
      "Epoch 5/10\n",
      "6/6 [==============================] - 1s 196ms/step - loss: 0.0538 - accuracy: 0.5983\n",
      "Epoch 6/10\n",
      "6/6 [==============================] - 1s 208ms/step - loss: 0.0466 - accuracy: 0.6032\n",
      "Epoch 7/10\n",
      "6/6 [==============================] - 1s 211ms/step - loss: 0.0446 - accuracy: 0.5982\n",
      "Epoch 8/10\n",
      "6/6 [==============================] - 1s 198ms/step - loss: 0.0418 - accuracy: 0.5949\n",
      "Epoch 9/10\n",
      "6/6 [==============================] - 1s 210ms/step - loss: 0.0394 - accuracy: 0.6016\n",
      "Epoch 10/10\n",
      "6/6 [==============================] - 1s 206ms/step - loss: 0.0375 - accuracy: 0.6052\n"
     ]
    },
    {
     "data": {
      "text/plain": [
       "<keras.callbacks.History at 0x7f2464255460>"
      ]
     },
     "execution_count": 8,
     "metadata": {},
     "output_type": "execute_result"
    }
   ],
   "source": [
    "model.fit(X_train, y_train, epochs=10)"
   ]
  },
  {
   "cell_type": "code",
   "execution_count": 9,
   "id": "cbabc49d-2b33-4d17-9bcc-3d05b7a48ece",
   "metadata": {},
   "outputs": [],
   "source": [
    "# model.save(\"models/model1\")"
   ]
  },
  {
   "cell_type": "code",
   "execution_count": null,
   "id": "e824778c-aacb-4aff-b7cd-daa7af201cbc",
   "metadata": {},
   "outputs": [],
   "source": [
    "model = tf.keras.models.load_model(\"models/model1\")"
   ]
  },
  {
   "cell_type": "code",
   "execution_count": null,
   "id": "313c0341-6990-4827-9c15-99c6bd0e51fe",
   "metadata": {},
   "outputs": [],
   "source": [
    "test_images = glob.glob(\"test-images/*png\")\n",
    "len(test_images)"
   ]
  },
  {
   "cell_type": "code",
   "execution_count": null,
   "id": "54d91ec0-9004-4bd7-ab62-49196670f2d6",
   "metadata": {},
   "outputs": [],
   "source": [
    "fig = plt.figure(figsize=(5, 5))\n",
    "columns = 2\n",
    "rows = 2\n",
    "for i in range(1, columns*rows + 1):\n",
    "    lr_img = transform.resize(io.imread(test_images[i-1]), (input_size, input_size))\n",
    "    fig.add_subplot(rows, columns, i)\n",
    "    plt.imshow(lr_img)\n",
    "plt.show()"
   ]
  },
  {
   "cell_type": "code",
   "execution_count": null,
   "id": "6cd76be5-865a-4ed0-8028-cf0e76b4ea88",
   "metadata": {},
   "outputs": [],
   "source": [
    "fig = plt.figure(figsize=(5, 5))\n",
    "columns = 2\n",
    "rows = 2\n",
    "for i in range(1, columns*rows + 1):\n",
    "    lr_img = transform.resize(io.imread(test_images[i-1]), (input_size, input_size))\n",
    "    hr_img_unshaped = model.predict(lr_img.reshape(-1, input_size, input_size, 3))\n",
    "    hr_img = hr_img_unshaped.reshape(output_size, output_size, 3)\n",
    "    fig.add_subplot(rows, columns, i)\n",
    "    plt.imshow(hr_img)\n",
    "plt.show()"
   ]
  },
  {
   "cell_type": "code",
   "execution_count": null,
   "id": "1388c05a-c0ff-42a5-a7fa-7fdb806c2dd8",
   "metadata": {},
   "outputs": [],
   "source": []
  }
 ],
 "metadata": {
  "kernelspec": {
   "display_name": "Python 3 (ipykernel)",
   "language": "python",
   "name": "python3"
  },
  "language_info": {
   "codemirror_mode": {
    "name": "ipython",
    "version": 3
   },
   "file_extension": ".py",
   "mimetype": "text/x-python",
   "name": "python",
   "nbconvert_exporter": "python",
   "pygments_lexer": "ipython3",
   "version": "3.9.16"
  }
 },
 "nbformat": 4,
 "nbformat_minor": 5
}
